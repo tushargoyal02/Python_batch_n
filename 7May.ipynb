{
 "cells": [
  {
   "cell_type": "code",
   "execution_count": 1,
   "id": "90147d9a",
   "metadata": {},
   "outputs": [],
   "source": [
    "# function"
   ]
  },
  {
   "cell_type": "code",
   "execution_count": 2,
   "id": "2f8c1cd6",
   "metadata": {},
   "outputs": [],
   "source": [
    "# type of arguments"
   ]
  },
  {
   "cell_type": "code",
   "execution_count": 3,
   "id": "8f3d74fe",
   "metadata": {},
   "outputs": [],
   "source": [
    "# Required argument\n",
    "# positional \n",
    "# keyword\n",
    "# default\n",
    "# variable length argument"
   ]
  },
  {
   "cell_type": "code",
   "execution_count": 10,
   "id": "3ec77b56",
   "metadata": {},
   "outputs": [],
   "source": [
    "def employee(eid, ename, email):\n",
    "    print(f\"Eid: {eid} \\nEname: {ename} \\nEmail : {email}\")"
   ]
  },
  {
   "cell_type": "code",
   "execution_count": 11,
   "id": "c9201a4f",
   "metadata": {},
   "outputs": [
    {
     "name": "stdout",
     "output_type": "stream",
     "text": [
      "Eid: 100 \n",
      "Ename: tushar \n",
      "Email : tushar@gmail.com\n"
     ]
    }
   ],
   "source": [
    "# required argument\n",
    "employee(100,\"tushar\",\"tushar@gmail.com\")"
   ]
  },
  {
   "cell_type": "code",
   "execution_count": 13,
   "id": "c5662848",
   "metadata": {},
   "outputs": [
    {
     "name": "stdout",
     "output_type": "stream",
     "text": [
      "Eid: 100 \n",
      "Ename: tushar \n",
      "Email : tushar@gmail.com\n"
     ]
    }
   ],
   "source": [
    "def employee(eid, ename, email):\n",
    "    print(f\"Eid: {eid} \\nEname: {ename} \\nEmail : {email}\")\n",
    "    \n",
    "# required argument\n",
    "employee(100,\"tushar\",\"tushar@gmail.com\")"
   ]
  },
  {
   "cell_type": "code",
   "execution_count": 16,
   "id": "891ae5db",
   "metadata": {},
   "outputs": [
    {
     "name": "stdout",
     "output_type": "stream",
     "text": [
      "Eid: tushar \n",
      "Ename: tushar@gmail.com \n",
      "Email : 100\n"
     ]
    }
   ],
   "source": [
    "def employee(eid, ename, email):\n",
    "    print(f\"Eid: {eid} \\nEname: {ename} \\nEmail : {email}\")\n",
    "    \n",
    "# positional  argument\n",
    "employee(\"tushar\",\"tushar@gmail.com\",100)"
   ]
  },
  {
   "cell_type": "code",
   "execution_count": 21,
   "id": "de96671e",
   "metadata": {},
   "outputs": [
    {
     "name": "stdout",
     "output_type": "stream",
     "text": [
      "Eid: 100 \n",
      "Ename: tushar \n",
      "Email : tushar@gmail.com\n"
     ]
    }
   ],
   "source": [
    "def employee(eid, ename, email):\n",
    "    print(f\"Eid: {eid} \\nEname: {ename} \\nEmail : {email}\")\n",
    "    \n",
    "# keyword  argument\n",
    "employee(ename=\"tushar\",email=\"tushar@gmail.com\",eid=100)"
   ]
  },
  {
   "cell_type": "code",
   "execution_count": 25,
   "id": "edeccff2",
   "metadata": {},
   "outputs": [
    {
     "name": "stdout",
     "output_type": "stream",
     "text": [
      "Eid: 100 \n",
      "Ename: tushar \n",
      "Email : tushar@gmail.com\n"
     ]
    }
   ],
   "source": [
    "def employee(eid, ename, email):\n",
    "    print(f\"Eid: {eid} \\nEname: {ename} \\nEmail : {email}\")\n",
    "    \n",
    "# positional + keyword  argument\n",
    "employee( 100,email=\"tushar@gmail.com\",ename=\"tushar\")"
   ]
  },
  {
   "cell_type": "code",
   "execution_count": 29,
   "id": "62020945",
   "metadata": {},
   "outputs": [
    {
     "name": "stdout",
     "output_type": "stream",
     "text": [
      "Eid: 100 \n",
      "Ename: tushar \n",
      "Email : regex@gmail.com\n",
      "Eid: 100 \n",
      "Ename: aman \n",
      "Email : aman@gmail.com\n"
     ]
    }
   ],
   "source": [
    "def employee(eid, ename, email=\"regex@gmail.com\"):\n",
    "    print(f\"Eid: {eid} \\nEname: {ename} \\nEmail : {email}\")\n",
    "    \n",
    "# default  argument\n",
    "employee( 100,\"tushar\")\n",
    "\n",
    "employee( 100,\"aman\",\"aman@gmail.com\")"
   ]
  },
  {
   "cell_type": "code",
   "execution_count": 31,
   "id": "f578854c",
   "metadata": {},
   "outputs": [
    {
     "ename": "TypeError",
     "evalue": "instagram() missing 1 required positional argument: 'mobile'",
     "output_type": "error",
     "traceback": [
      "\u001b[1;31m---------------------------------------------------------------------------\u001b[0m",
      "\u001b[1;31mTypeError\u001b[0m                                 Traceback (most recent call last)",
      "Cell \u001b[1;32mIn[31], line 5\u001b[0m\n\u001b[0;32m      2\u001b[0m \u001b[38;5;28;01mdef\u001b[39;00m \u001b[38;5;21minstagram\u001b[39m(username,  dob, mobile):\n\u001b[0;32m      3\u001b[0m     \u001b[38;5;28mprint\u001b[39m(username, dob, mobile)\n\u001b[1;32m----> 5\u001b[0m \u001b[43minstagram\u001b[49m\u001b[43m(\u001b[49m\u001b[38;5;124;43m\"\u001b[39;49m\u001b[38;5;124;43maman\u001b[39;49m\u001b[38;5;124;43m\"\u001b[39;49m\u001b[43m,\u001b[49m\u001b[38;5;124;43m\"\u001b[39;49m\u001b[38;5;124;43m17/02/2000\u001b[39;49m\u001b[38;5;124;43m\"\u001b[39;49m\u001b[43m)\u001b[49m\n",
      "\u001b[1;31mTypeError\u001b[0m: instagram() missing 1 required positional argument: 'mobile'"
     ]
    }
   ],
   "source": [
    "# variable length argument\n",
    "def instagram(username,  dob, mobile):\n",
    "    print(username, dob, mobile)\n",
    "    \n",
    "instagram(\"aman\",\"17/02/2000\")"
   ]
  },
  {
   "cell_type": "code",
   "execution_count": 38,
   "id": "e0e58d74",
   "metadata": {},
   "outputs": [
    {
     "name": "stdout",
     "output_type": "stream",
     "text": [
      "(10, 20, 'hello') <class 'tuple'>\n",
      "('hello', 1000) <class 'tuple'>\n"
     ]
    }
   ],
   "source": [
    "# variable length argument\n",
    "def instagram(  *data ):\n",
    "    print(data, type(data))\n",
    "    \n",
    "instagram(10,20,\"hello\")\n",
    "instagram(\"hello\",1000)"
   ]
  },
  {
   "cell_type": "code",
   "execution_count": 43,
   "id": "3cee73bd",
   "metadata": {},
   "outputs": [
    {
     "name": "stdout",
     "output_type": "stream",
     "text": [
      "{'salary': 10, 'age': 20, 'msg': 'hello'} <class 'dict'>\n",
      "{'msg': 'happy', 'salary': 99} <class 'dict'>\n"
     ]
    }
   ],
   "source": [
    "# keyword-variable length argument\n",
    "# *args vs **kwargs\n",
    "def instagram(  **kwargs ):\n",
    "    print(kwargs, type(kwargs))\n",
    "\n",
    "\n",
    "instagram(salary=10,age=20,msg=\"hello\")\n",
    "instagram(msg=\"happy\",salary=99)\n"
   ]
  },
  {
   "cell_type": "code",
   "execution_count": 51,
   "id": "95761532",
   "metadata": {},
   "outputs": [
    {
     "name": "stdout",
     "output_type": "stream",
     "text": [
      "<function func at 0x0000024187AABB50>\n"
     ]
    },
    {
     "data": {
      "text/plain": [
       "<function __main__.func()>"
      ]
     },
     "execution_count": 51,
     "metadata": {},
     "output_type": "execute_result"
    }
   ],
   "source": [
    "# first-class functions\n",
    "# high order functions\n",
    "\n",
    "def func():\n",
    "    print(\"hello\")\n",
    "    \n",
    "print(func)\n",
    "x=func\n",
    "x"
   ]
  },
  {
   "cell_type": "code",
   "execution_count": 57,
   "id": "5c72c300",
   "metadata": {},
   "outputs": [
    {
     "name": "stdout",
     "output_type": "stream",
     "text": [
      "410\n"
     ]
    }
   ],
   "source": [
    "def square(x):\n",
    "    return x*x\n",
    "\n",
    "def addNo(z, func):\n",
    "    print(z+ func(20)   )\n",
    "    \n",
    "    \n",
    "\n",
    "#addNo(10,20)\n",
    "addNo( 10, square   )   \n",
    "    \n"
   ]
  }
 ],
 "metadata": {
  "kernelspec": {
   "display_name": "Python 3 (ipykernel)",
   "language": "python",
   "name": "python3"
  },
  "language_info": {
   "codemirror_mode": {
    "name": "ipython",
    "version": 3
   },
   "file_extension": ".py",
   "mimetype": "text/x-python",
   "name": "python",
   "nbconvert_exporter": "python",
   "pygments_lexer": "ipython3",
   "version": "3.10.11"
  }
 },
 "nbformat": 4,
 "nbformat_minor": 5
}
