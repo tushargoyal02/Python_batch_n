{
 "cells": [
  {
   "cell_type": "code",
   "execution_count": 1,
   "id": "38e11f1e",
   "metadata": {},
   "outputs": [],
   "source": [
    "# tuple\n",
    "# list\n",
    "# ()  index\n",
    "# immutable\n"
   ]
  },
  {
   "cell_type": "code",
   "execution_count": 5,
   "id": "81b493dd",
   "metadata": {},
   "outputs": [
    {
     "name": "stdout",
     "output_type": "stream",
     "text": [
      "<class 'tuple'>\n"
     ]
    }
   ],
   "source": [
    "mytuple=10,20,\"hello\"\n",
    "print( type(mytuple) )"
   ]
  },
  {
   "cell_type": "code",
   "execution_count": 7,
   "id": "7c2b278a",
   "metadata": {},
   "outputs": [
    {
     "name": "stdout",
     "output_type": "stream",
     "text": [
      "<class 'tuple'>\n"
     ]
    }
   ],
   "source": [
    "mytuple=(10,20,\"hello\")\n",
    "print( type(mytuple) )"
   ]
  },
  {
   "cell_type": "code",
   "execution_count": 8,
   "id": "93aea22c",
   "metadata": {},
   "outputs": [
    {
     "name": "stdout",
     "output_type": "stream",
     "text": [
      "<class 'tuple'>\n"
     ]
    }
   ],
   "source": [
    "mytuple=10,20,\"hello\"\n",
    "print( type(mytuple) )"
   ]
  },
  {
   "cell_type": "code",
   "execution_count": 14,
   "id": "da76a96d",
   "metadata": {},
   "outputs": [
    {
     "data": {
      "text/plain": [
       "'hello'"
      ]
     },
     "execution_count": 14,
     "metadata": {},
     "output_type": "execute_result"
    }
   ],
   "source": [
    "mytuple[2]"
   ]
  },
  {
   "cell_type": "code",
   "execution_count": 19,
   "id": "b23e22ea",
   "metadata": {},
   "outputs": [
    {
     "data": {
      "text/plain": [
       "10"
      ]
     },
     "execution_count": 19,
     "metadata": {},
     "output_type": "execute_result"
    }
   ],
   "source": [
    "# immutable \n",
    "mytuple[0]"
   ]
  },
  {
   "cell_type": "code",
   "execution_count": 21,
   "id": "c6552284",
   "metadata": {},
   "outputs": [
    {
     "data": {
      "text/plain": [
       "1"
      ]
     },
     "execution_count": 21,
     "metadata": {},
     "output_type": "execute_result"
    }
   ],
   "source": [
    "mytuple.count(10)\n"
   ]
  },
  {
   "cell_type": "code",
   "execution_count": 23,
   "id": "979e808e",
   "metadata": {},
   "outputs": [
    {
     "data": {
      "text/plain": [
       "(10, 20, 'hello')"
      ]
     },
     "execution_count": 23,
     "metadata": {},
     "output_type": "execute_result"
    }
   ],
   "source": [
    "mytuple"
   ]
  },
  {
   "cell_type": "code",
   "execution_count": 26,
   "id": "f675b80f",
   "metadata": {},
   "outputs": [
    {
     "data": {
      "text/plain": [
       "2"
      ]
     },
     "execution_count": 26,
     "metadata": {},
     "output_type": "execute_result"
    }
   ],
   "source": [
    "mytuple.index(\"hello\")"
   ]
  },
  {
   "cell_type": "code",
   "execution_count": 27,
   "id": "2f0d86a7",
   "metadata": {},
   "outputs": [],
   "source": [
    "# Mydictionary\n",
    "# datastructure \n",
    "# {key : value}\n",
    "# key identifier : unique\n",
    "# value : may be unique or duplicate\n",
    "# mutuable  / ordered\n",
    "# no index position"
   ]
  },
  {
   "cell_type": "code",
   "execution_count": 29,
   "id": "b50c201c",
   "metadata": {},
   "outputs": [
    {
     "data": {
      "text/plain": [
       "dict"
      ]
     },
     "execution_count": 29,
     "metadata": {},
     "output_type": "execute_result"
    }
   ],
   "source": [
    "mydictionary = { 10:\"yash\" }\n",
    "type(mydictionary)"
   ]
  },
  {
   "cell_type": "code",
   "execution_count": 32,
   "id": "938eb9d8",
   "metadata": {},
   "outputs": [
    {
     "data": {
      "text/plain": [
       "{10: 'yash', 20: 'abhishek'}"
      ]
     },
     "execution_count": 32,
     "metadata": {},
     "output_type": "execute_result"
    }
   ],
   "source": [
    "mydictionary = { 10:\"yash\",  20:\"abhishek\" }\n",
    "mydictionary"
   ]
  },
  {
   "cell_type": "code",
   "execution_count": 36,
   "id": "d05443e8",
   "metadata": {},
   "outputs": [
    {
     "data": {
      "text/plain": [
       "'abhishek'"
      ]
     },
     "execution_count": 36,
     "metadata": {},
     "output_type": "execute_result"
    }
   ],
   "source": [
    "mydictionary[20]"
   ]
  },
  {
   "cell_type": "code",
   "execution_count": 40,
   "id": "281e19fa",
   "metadata": {},
   "outputs": [
    {
     "name": "stdout",
     "output_type": "stream",
     "text": [
      "{10: 'yash', 20: 'abhishek'}\n"
     ]
    }
   ],
   "source": [
    "mydictionary = { 10:\"yash\",  20:\"abhishek\" }\n",
    "print(mydictionary)\n",
    "\n",
    "# update / insert\n",
    "mydictionary[40] = \"naina123\""
   ]
  },
  {
   "cell_type": "code",
   "execution_count": 41,
   "id": "a7634782",
   "metadata": {},
   "outputs": [
    {
     "name": "stdout",
     "output_type": "stream",
     "text": [
      "{10: 'yash', 20: 'abhishek', 40: 'naina123'}\n"
     ]
    }
   ],
   "source": [
    "print(mydictionary)"
   ]
  },
  {
   "cell_type": "code",
   "execution_count": 80,
   "id": "56671699",
   "metadata": {},
   "outputs": [],
   "source": [
    "\n",
    "mydictionary={\"B\":1 , \"A\":10}"
   ]
  },
  {
   "cell_type": "code",
   "execution_count": 83,
   "id": "cf0f3417",
   "metadata": {},
   "outputs": [
    {
     "name": "stdout",
     "output_type": "stream",
     "text": [
      "{'B': 1, 'A': 10}\n"
     ]
    },
    {
     "data": {
      "text/plain": [
       "False"
      ]
     },
     "execution_count": 83,
     "metadata": {},
     "output_type": "execute_result"
    }
   ],
   "source": [
    "print(mydictionary)\n",
    "\n",
    "\"C\" in mydictionary"
   ]
  },
  {
   "cell_type": "code",
   "execution_count": 61,
   "id": "238f2be3",
   "metadata": {},
   "outputs": [
    {
     "name": "stdout",
     "output_type": "stream",
     "text": [
      "{'B': 1, 'A': 10, 'c': 1}\n"
     ]
    }
   ],
   "source": [
    "\n",
    "mydictionary[\"c\"]=1\n",
    "print(mydictionary)"
   ]
  },
  {
   "cell_type": "code",
   "execution_count": 62,
   "id": "04d14cf3",
   "metadata": {},
   "outputs": [
    {
     "name": "stdout",
     "output_type": "stream",
     "text": [
      "{'h': 1, 'e': 1, 'l': 1, 'o': 1}\n"
     ]
    }
   ],
   "source": [
    "# mydiction[key] = value\n",
    "\n",
    "mydictionary={}\n",
    "for char in \"hello\":\n",
    "    mydictionary[char]=1\n",
    "    \n",
    "print(mydictionary)"
   ]
  },
  {
   "cell_type": "code",
   "execution_count": 63,
   "id": "11303d3e",
   "metadata": {},
   "outputs": [],
   "source": [
    "# \"hello hey\"\n",
    "# {totalword:8}\n",
    "\n",
    "\n",
    "# \" hey hello tushar\"\n",
    "# {e:2  , o:1 , u:1,  a:1}"
   ]
  },
  {
   "cell_type": "code",
   "execution_count": 66,
   "id": "3623b2ce",
   "metadata": {},
   "outputs": [
    {
     "name": "stdout",
     "output_type": "stream",
     "text": [
      "h\n",
      "e\n",
      "l\n",
      "l\n",
      "o\n"
     ]
    },
    {
     "data": {
      "text/plain": [
       "{'totalwords': 5}"
      ]
     },
     "execution_count": 66,
     "metadata": {},
     "output_type": "execute_result"
    }
   ],
   "source": [
    "count=0\n",
    "mydictionary={}\n",
    "for i in \"hello\":\n",
    "    print(i)\n",
    "    count+=1\n",
    "    \n",
    "mydictionary={\"totalwords\":count}\n",
    "mydictionary"
   ]
  },
  {
   "cell_type": "code",
   "execution_count": 70,
   "id": "72be100e",
   "metadata": {},
   "outputs": [
    {
     "name": "stdout",
     "output_type": "stream",
     "text": [
      "{'totalwords': 1}\n"
     ]
    }
   ],
   "source": [
    "mydictionary={\"totalwords\":0}\n",
    "mydictionary[\"totalwords\"] = mydictionary[\"totalwords\"]+1\n",
    "print(mydictionary)"
   ]
  },
  {
   "cell_type": "code",
   "execution_count": 73,
   "id": "24c62850",
   "metadata": {},
   "outputs": [
    {
     "name": "stdout",
     "output_type": "stream",
     "text": [
      "{'totalwords': 9}\n"
     ]
    }
   ],
   "source": [
    "mydictionary={\"totalwords\":0}\n",
    "for i in \"hello hey\":\n",
    "    mydictionary[\"totalwords\"] = mydictionary[\"totalwords\"]+1\n",
    "\n",
    "print(mydictionary)"
   ]
  },
  {
   "cell_type": "code",
   "execution_count": 90,
   "id": "a2319d19",
   "metadata": {},
   "outputs": [
    {
     "data": {
      "text/plain": [
       "{'e': 2, 'o': 1, 'u': 1, 'a': 1}"
      ]
     },
     "execution_count": 90,
     "metadata": {},
     "output_type": "execute_result"
    }
   ],
   "source": [
    "mydictionary={}\n",
    "for char in \"hello hey tushar\":\n",
    "    if char in \"aeiou\":\n",
    "        \n",
    "        if char not in mydictionary:\n",
    "            mydictionary[char]=1\n",
    "        \n",
    "        else:\n",
    "            mydictionary[char]= mydictionary[char]+1\n",
    "        \n",
    "mydictionary"
   ]
  },
  {
   "cell_type": "code",
   "execution_count": null,
   "id": "a7f8d5f7",
   "metadata": {},
   "outputs": [],
   "source": [
    "#  sunday => \n",
    "#  1  2   3  4  5 6 7\n",
    "#  2 3  4  5  6 7 8\n",
    "#  3\n",
    "# 4\n",
    "\n",
    "#10  => 37\n",
    "# 5  =>   15\n",
    "#24"
   ]
  }
 ],
 "metadata": {
  "kernelspec": {
   "display_name": "Python 3 (ipykernel)",
   "language": "python",
   "name": "python3"
  },
  "language_info": {
   "codemirror_mode": {
    "name": "ipython",
    "version": 3
   },
   "file_extension": ".py",
   "mimetype": "text/x-python",
   "name": "python",
   "nbconvert_exporter": "python",
   "pygments_lexer": "ipython3",
   "version": "3.10.11"
  }
 },
 "nbformat": 4,
 "nbformat_minor": 5
}
