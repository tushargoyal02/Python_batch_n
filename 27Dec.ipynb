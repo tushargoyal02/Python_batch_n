{
 "cells": [
  {
   "cell_type": "code",
   "execution_count": 1,
   "id": "1f51e003",
   "metadata": {},
   "outputs": [],
   "source": [
    "# Exceptional handling\n",
    "\n",
    "# Exception  => unwanted conditionn ( affect kr sakti hai)\n",
    "# Error : terminate ( handle nhi hoti )"
   ]
  },
  {
   "cell_type": "code",
   "execution_count": 6,
   "id": "4d0f0309",
   "metadata": {},
   "outputs": [
    {
     "ename": "ZeroDivisionError",
     "evalue": "division by zero",
     "output_type": "error",
     "traceback": [
      "\u001b[1;31m---------------------------------------------------------------------------\u001b[0m",
      "\u001b[1;31mZeroDivisionError\u001b[0m                         Traceback (most recent call last)",
      "Cell \u001b[1;32mIn[6], line 1\u001b[0m\n\u001b[1;32m----> 1\u001b[0m \u001b[38;5;241;43m10\u001b[39;49m\u001b[38;5;241;43m/\u001b[39;49m\u001b[38;5;241;43m0\u001b[39;49m\n",
      "\u001b[1;31mZeroDivisionError\u001b[0m: division by zero"
     ]
    }
   ],
   "source": [
    "10/0"
   ]
  },
  {
   "cell_type": "code",
   "execution_count": 17,
   "id": "a1e5e50d",
   "metadata": {},
   "outputs": [
    {
     "name": "stdout",
     "output_type": "stream",
     "text": [
      "hello\n",
      "hey\n"
     ]
    }
   ],
   "source": [
    "#Exception handling\n",
    "try:\n",
    "    print(\"hello\")\n",
    "    x=\"abc\"\n",
    "    try:\n",
    "        x[0]\n",
    "    except:\n",
    "        print(\"Error of index to be handled\")\n",
    "        \n",
    "    print(\"hey\")\n",
    "except (ZeroDivisionError,NameError) as e:\n",
    "    print(\"error handled : \",e)\n",
    "    \n",
    "except Exception: \n",
    "    print(\"Exception classs handled the error\")"
   ]
  },
  {
   "cell_type": "code",
   "execution_count": 20,
   "id": "a12ae342",
   "metadata": {},
   "outputs": [
    {
     "name": "stdout",
     "output_type": "stream",
     "text": [
      "hello\n",
      "error handled :  division by zero\n"
     ]
    }
   ],
   "source": [
    "try:\n",
    "    print(\"hello\")\n",
    "    10/0    \n",
    "    print(\"hey\")\n",
    "except (ZeroDivisionError,NameError) as e:\n",
    "    print(\"error handled : \",e)\n",
    "else:\n",
    "    print(\"Else part is exceuted\")\n",
    "    "
   ]
  },
  {
   "cell_type": "code",
   "execution_count": 23,
   "id": "58b215c6",
   "metadata": {},
   "outputs": [
    {
     "name": "stdout",
     "output_type": "stream",
     "text": [
      "hello\n",
      "hey\n",
      "Finally is exceuted\n"
     ]
    }
   ],
   "source": [
    "try:\n",
    "    print(\"hello\")\n",
    "    10/10    \n",
    "    print(\"hey\")\n",
    "except (ZeroDivisionError,NameError) as e:\n",
    "    print(\"error handled : \",e)\n",
    "finally:\n",
    "    print(\"Finally is exceuted\")\n",
    "    "
   ]
  },
  {
   "cell_type": "code",
   "execution_count": 26,
   "id": "bc75a257",
   "metadata": {},
   "outputs": [
    {
     "name": "stdout",
     "output_type": "stream",
     "text": [
      "All value error is handled\n"
     ]
    }
   ],
   "source": [
    "# raise keyword  => exception generate\n",
    "try:\n",
    "    age=16\n",
    "    if(age<18):\n",
    "        raise ValueError\n",
    "\n",
    "    else:\n",
    "        print(\"hello\")\n",
    "        \n",
    "except ValueError:\n",
    "    print(\"All value error is handled\")"
   ]
  },
  {
   "cell_type": "code",
   "execution_count": 29,
   "id": "4ffef02b",
   "metadata": {},
   "outputs": [
    {
     "data": {
      "text/plain": [
       "[10, 10, 20]"
      ]
     },
     "execution_count": 29,
     "metadata": {},
     "output_type": "execute_result"
    }
   ],
   "source": [
    "list( filter(lambda x: x%10==0,  [11,10,10,20]) )"
   ]
  },
  {
   "cell_type": "code",
   "execution_count": 38,
   "id": "9bc8246d",
   "metadata": {},
   "outputs": [
    {
     "data": {
      "text/plain": [
       "22000"
      ]
     },
     "execution_count": 38,
     "metadata": {},
     "output_type": "execute_result"
    }
   ],
   "source": [
    "from functools import reduce\n",
    "\n",
    "reduce(lambda x,y: x*y , [11,10,10,20]) "
   ]
  },
  {
   "cell_type": "code",
   "execution_count": 39,
   "id": "3bd085f9",
   "metadata": {},
   "outputs": [],
   "source": [
    "class House:\n",
    "    color=\"White\"\n",
    "    room=4"
   ]
  },
  {
   "cell_type": "code",
   "execution_count": 41,
   "id": "e87ded97",
   "metadata": {},
   "outputs": [
    {
     "name": "stdout",
     "output_type": "stream",
     "text": [
      "White\n"
     ]
    }
   ],
   "source": [
    "# object\n",
    "h1=House()\n",
    "print(h1.color)"
   ]
  },
  {
   "cell_type": "code",
   "execution_count": 42,
   "id": "7ec68cee",
   "metadata": {},
   "outputs": [
    {
     "name": "stdout",
     "output_type": "stream",
     "text": [
      "4\n"
     ]
    }
   ],
   "source": [
    "print(h1.room)"
   ]
  }
 ],
 "metadata": {
  "kernelspec": {
   "display_name": "Python 3 (ipykernel)",
   "language": "python",
   "name": "python3"
  },
  "language_info": {
   "codemirror_mode": {
    "name": "ipython",
    "version": 3
   },
   "file_extension": ".py",
   "mimetype": "text/x-python",
   "name": "python",
   "nbconvert_exporter": "python",
   "pygments_lexer": "ipython3",
   "version": "3.10.11"
  }
 },
 "nbformat": 4,
 "nbformat_minor": 5
}
