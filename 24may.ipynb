{
 "cells": [
  {
   "cell_type": "code",
   "execution_count": 1,
   "id": "03bbe01e",
   "metadata": {},
   "outputs": [],
   "source": [
    "# open\n",
    "# read  / write\n",
    "# close()"
   ]
  },
  {
   "cell_type": "code",
   "execution_count": 4,
   "id": "76238bb2",
   "metadata": {},
   "outputs": [
    {
     "name": "stdout",
     "output_type": "stream",
     "text": [
      "hey aman\n",
      "hello\n"
     ]
    }
   ],
   "source": [
    "fileobj = open(\"aman.txt\")\n",
    "x= fileobj.read()\n",
    "fileobj.close()\n",
    "\n",
    "\n",
    "print(x)"
   ]
  },
  {
   "cell_type": "code",
   "execution_count": 9,
   "id": "55d64e1d",
   "metadata": {},
   "outputs": [],
   "source": [
    "# access- mode  ( r,  w)\n",
    "\n",
    "fileobj = open(\"aman.txt\",\"w\")\n",
    "fileobj.write(\"tushar\")\n",
    "fileobj.close()\n"
   ]
  },
  {
   "cell_type": "code",
   "execution_count": 14,
   "id": "cfe24437",
   "metadata": {},
   "outputs": [
    {
     "name": "stdout",
     "output_type": "stream",
     "text": [
      "\n"
     ]
    }
   ],
   "source": [
    "fileobj = open(\"aman.txt\",\"w+\")\n",
    "x=fileobj.read()\n",
    "fileobj.write(\"$$\")\n",
    "\n",
    "\n",
    "fileobj.close()\n",
    "\n",
    "print(x)"
   ]
  },
  {
   "cell_type": "code",
   "execution_count": 22,
   "id": "44be3cbe",
   "metadata": {},
   "outputs": [
    {
     "name": "stdout",
     "output_type": "stream",
     "text": [
      "0\n",
      "write 4\n",
      "ur\n"
     ]
    }
   ],
   "source": [
    "fileobj = open(\"aman.txt\",\"w+\")\n",
    "\n",
    "print( fileobj.tell() )\n",
    "fileobj.write(\"jaipur\")\n",
    "fileobj.seek(4)\n",
    "print( \"write\", fileobj.tell() )\n",
    "\n",
    "x=fileobj.read()\n",
    "\n",
    "fileobj.close()\n",
    "\n",
    "print(x)"
   ]
  },
  {
   "cell_type": "code",
   "execution_count": 25,
   "id": "660dab18",
   "metadata": {},
   "outputs": [
    {
     "name": "stdout",
     "output_type": "stream",
     "text": [
      "rajasthan jaipur\n",
      "hey tushar\n",
      "hey aman\n"
     ]
    }
   ],
   "source": [
    "#  fileobj = open(\"aman.txt\",\"w+\")\n",
    "\n",
    "with open(\"aman.txt\",\"r\") as fileobj:\n",
    "    out = fileobj.read()\n",
    "    \n",
    "print(out)"
   ]
  },
  {
   "cell_type": "code",
   "execution_count": 28,
   "id": "b7712bba",
   "metadata": {},
   "outputs": [
    {
     "name": "stdout",
     "output_type": "stream",
     "text": [
      "rajasthan jaipur\n",
      "\n",
      "hey tushar\n",
      "\n"
     ]
    }
   ],
   "source": [
    "with open(\"aman.txt\",\"r\") as fileobj:\n",
    "    print( fileobj.readline() )\n",
    "    print( fileobj.readline() )\n",
    "    \n"
   ]
  },
  {
   "cell_type": "code",
   "execution_count": 34,
   "id": "2edacd82",
   "metadata": {},
   "outputs": [
    {
     "name": "stdout",
     "output_type": "stream",
     "text": [
      "rajasthan jaipur\n",
      "hey tushar\n",
      "hey aman\n"
     ]
    }
   ],
   "source": [
    "with open(\"aman.txt\",\"r\") as fileobj:\n",
    "    for line in fileobj.readlines():\n",
    "        print( line.strip()   )\n"
   ]
  },
  {
   "cell_type": "code",
   "execution_count": 35,
   "id": "35b020bc",
   "metadata": {},
   "outputs": [],
   "source": [
    "# a csv \n",
    "# comma seprated values\n",
    "#  id,name,email \n",
    "#  id$name$email  (DSV files)"
   ]
  },
  {
   "cell_type": "code",
   "execution_count": 36,
   "id": "b6ed2ba1",
   "metadata": {},
   "outputs": [],
   "source": [
    "import csv"
   ]
  },
  {
   "cell_type": "code",
   "execution_count": 41,
   "id": "e47bc2bd",
   "metadata": {},
   "outputs": [
    {
     "name": "stdout",
     "output_type": "stream",
     "text": [
      "1 tushar tushar@gmail.com\n",
      "2 aman aman@gmail.com\n"
     ]
    }
   ],
   "source": [
    "f = open(\"aman.txt\")\n",
    "fileobj  = csv.reader(f)\n",
    "for  line in fileobj:\n",
    "    ids,name,email=line\n",
    "    print(ids, name,email)"
   ]
  },
  {
   "cell_type": "code",
   "execution_count": 48,
   "id": "f4e9b8fd",
   "metadata": {},
   "outputs": [
    {
     "name": "stdout",
     "output_type": "stream",
     "text": [
      "1 tushar aman@gmail.com\n",
      "2 aman aman@gmail.com\n"
     ]
    }
   ],
   "source": [
    "with open(\"aman.txt\",\"r\") as fileobj:\n",
    "    for line in fileobj.readlines():\n",
    "        line=line.strip()\n",
    "        x= line.split(\",\")\n",
    "        \n",
    "        idd, name,mail=x\n",
    "        print(idd, name,email)kkkkkkkkkkkk  "
   ]
  }
 ],
 "metadata": {
  "kernelspec": {
   "display_name": "Python 3 (ipykernel)",
   "language": "python",
   "name": "python3"
  },
  "language_info": {
   "codemirror_mode": {
    "name": "ipython",
    "version": 3
   },
   "file_extension": ".py",
   "mimetype": "text/x-python",
   "name": "python",
   "nbconvert_exporter": "python",
   "pygments_lexer": "ipython3",
   "version": "3.10.11"
  }
 },
 "nbformat": 4,
 "nbformat_minor": 5
}
