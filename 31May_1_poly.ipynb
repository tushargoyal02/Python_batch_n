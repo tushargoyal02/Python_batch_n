{
 "cells": [
  {
   "cell_type": "code",
   "execution_count": 1,
   "id": "df0ebe36",
   "metadata": {},
   "outputs": [],
   "source": [
    "# Polymorphism  : poly many phisma => form\n",
    "# function, object,  operator "
   ]
  },
  {
   "cell_type": "code",
   "execution_count": 2,
   "id": "fa137c45",
   "metadata": {},
   "outputs": [
    {
     "data": {
      "text/plain": [
       "3"
      ]
     },
     "execution_count": 2,
     "metadata": {},
     "output_type": "execute_result"
    }
   ],
   "source": [
    "1+2"
   ]
  },
  {
   "cell_type": "code",
   "execution_count": 4,
   "id": "8d542e90",
   "metadata": {},
   "outputs": [
    {
     "data": {
      "text/plain": [
       "'13'"
      ]
     },
     "execution_count": 4,
     "metadata": {},
     "output_type": "execute_result"
    }
   ],
   "source": [
    "\"1\"+\"3\""
   ]
  },
  {
   "cell_type": "code",
   "execution_count": 5,
   "id": "ba95479f",
   "metadata": {},
   "outputs": [],
   "source": [
    "# method overloading and over ridding"
   ]
  },
  {
   "cell_type": "code",
   "execution_count": 8,
   "id": "c663f1b3",
   "metadata": {},
   "outputs": [],
   "source": [
    "class Parent:\n",
    "    def info(eid):\n",
    "        print(\"this is the parent class\")\n",
    "        \n",
    "\n",
    "class Child(Parent):\n",
    "    def info(eid):\n",
    "        print(\"this is child class\")\n",
    "    "
   ]
  },
  {
   "cell_type": "code",
   "execution_count": 9,
   "id": "eac4e677",
   "metadata": {},
   "outputs": [
    {
     "name": "stdout",
     "output_type": "stream",
     "text": [
      "this is the parent class\n"
     ]
    }
   ],
   "source": [
    "c1=Child()\n",
    "c1.info()"
   ]
  },
  {
   "cell_type": "code",
   "execution_count": 27,
   "id": "8bf97e8f",
   "metadata": {},
   "outputs": [
    {
     "data": {
      "text/plain": [
       "45"
      ]
     },
     "execution_count": 27,
     "metadata": {},
     "output_type": "execute_result"
    }
   ],
   "source": [
    "class Raj:\n",
    "    def __init__(self, num1, num2):\n",
    "        self.num1=num1\n",
    "        self.num2=num2\n",
    "    \n",
    "    # object ko represent kr sakta hu\n",
    "    def __repr__(self):\n",
    "        return f\"Raj class has {self.num1} {self.num2}\"\n",
    "    \n",
    "    # self  = r1     obj=r2\n",
    "    def __add__(self, obj):\n",
    "        x1 = self.num1 + obj.num1\n",
    "        return x1\n",
    "    \n",
    "r1=Raj(10,20)\n",
    "r2=Raj(35,55)\n",
    "r1+r2\n",
    "\n",
    "# r1.__add__(r2)"
   ]
  },
  {
   "cell_type": "code",
   "execution_count": 25,
   "id": "9179b353",
   "metadata": {},
   "outputs": [
    {
     "data": {
      "text/plain": [
       "Raj class has 35 55"
      ]
     },
     "execution_count": 25,
     "metadata": {},
     "output_type": "execute_result"
    }
   ],
   "source": [
    "(10,20)\n",
    "\n",
    "\n",
    "(30,40)\n",
    "\n",
    "\n",
    "10**2  > 30**2  (True)"
   ]
  }
 ],
 "metadata": {
  "kernelspec": {
   "display_name": "Python 3 (ipykernel)",
   "language": "python",
   "name": "python3"
  },
  "language_info": {
   "codemirror_mode": {
    "name": "ipython",
    "version": 3
   },
   "file_extension": ".py",
   "mimetype": "text/x-python",
   "name": "python",
   "nbconvert_exporter": "python",
   "pygments_lexer": "ipython3",
   "version": "3.10.11"
  }
 },
 "nbformat": 4,
 "nbformat_minor": 5
}
