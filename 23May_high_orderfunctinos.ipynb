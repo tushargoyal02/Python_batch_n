{
 "cells": [
  {
   "cell_type": "code",
   "execution_count": 20,
   "id": "c4806753",
   "metadata": {},
   "outputs": [
    {
     "name": "stdout",
     "output_type": "stream",
     "text": [
      "hello\n"
     ]
    }
   ],
   "source": [
    "# first class functions\n",
    "\n",
    "def func(y):\n",
    "    print(\"hello\")\n",
    "\n",
    "    \n",
    "tushar=func\n",
    "tushar(10)\n",
    "\n",
    "\n",
    "#print(id(func),  id(xyz) )"
   ]
  },
  {
   "cell_type": "code",
   "execution_count": 16,
   "id": "33a04311",
   "metadata": {},
   "outputs": [
    {
     "name": "stdout",
     "output_type": "stream",
     "text": [
      "100\n"
     ]
    }
   ],
   "source": [
    "# high order function\n",
    "# function => dushre ko as a argument lete hai\n",
    "\n",
    "def test():\n",
    "    return 100\n",
    "    \n",
    "    \n",
    "out=test\n",
    "print(out())"
   ]
  },
  {
   "cell_type": "code",
   "execution_count": 23,
   "id": "28ac9cfc",
   "metadata": {},
   "outputs": [
    {
     "name": "stdout",
     "output_type": "stream",
     "text": [
      "10 25\n"
     ]
    }
   ],
   "source": [
    "def test(x):\n",
    "    return x+10\n",
    "    \n",
    "\n",
    "def addNumber(num1, num2):\n",
    "    print(num1, num2(15)  )\n",
    "\n",
    "\n",
    "addNumber(10, test )\n",
    "    \n",
    "#test(20)"
   ]
  },
  {
   "cell_type": "code",
   "execution_count": 34,
   "id": "a9dc82bb",
   "metadata": {},
   "outputs": [
    {
     "name": "stdout",
     "output_type": "stream",
     "text": [
      "hello\n",
      "None\n"
     ]
    }
   ],
   "source": [
    "def test():\n",
    "    print(\"hello\")\n",
    "    \n",
    "mylist = [ test()  ]\n",
    "print( mylist[0] )"
   ]
  },
  {
   "cell_type": "code",
   "execution_count": 32,
   "id": "b1db8520",
   "metadata": {},
   "outputs": [
    {
     "name": "stdout",
     "output_type": "stream",
     "text": [
      "hello\n"
     ]
    }
   ],
   "source": []
  },
  {
   "cell_type": "code",
   "execution_count": null,
   "id": "38a4ca05",
   "metadata": {},
   "outputs": [],
   "source": []
  }
 ],
 "metadata": {
  "kernelspec": {
   "display_name": "Python 3 (ipykernel)",
   "language": "python",
   "name": "python3"
  },
  "language_info": {
   "codemirror_mode": {
    "name": "ipython",
    "version": 3
   },
   "file_extension": ".py",
   "mimetype": "text/x-python",
   "name": "python",
   "nbconvert_exporter": "python",
   "pygments_lexer": "ipython3",
   "version": "3.10.11"
  }
 },
 "nbformat": 4,
 "nbformat_minor": 5
}
