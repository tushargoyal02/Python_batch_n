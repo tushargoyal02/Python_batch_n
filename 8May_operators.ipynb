{
 "cells": [
  {
   "cell_type": "code",
   "execution_count": 2,
   "id": "7cee4b51",
   "metadata": {},
   "outputs": [
    {
     "name": "stdout",
     "output_type": "stream",
     "text": [
      "1281891697168\n"
     ]
    }
   ],
   "source": [
    "# Data type\n",
    "\n",
    "x=10\n",
    "print( id(x) )"
   ]
  },
  {
   "cell_type": "code",
   "execution_count": 4,
   "id": "199951d9",
   "metadata": {},
   "outputs": [
    {
     "name": "stdout",
     "output_type": "stream",
     "text": [
      "1281891697168\n"
     ]
    }
   ],
   "source": [
    "y=x\n",
    "print(id(y))"
   ]
  },
  {
   "cell_type": "code",
   "execution_count": 6,
   "id": "c72a9d93",
   "metadata": {},
   "outputs": [
    {
     "name": "stdout",
     "output_type": "stream",
     "text": [
      "10 1281891697168\n",
      "Y :  10 1281891697168\n"
     ]
    }
   ],
   "source": [
    "x=10\n",
    "print(x  , id(x))\n",
    "\n",
    "y=x\n",
    "print(\"Y : \", y, id(y))"
   ]
  },
  {
   "cell_type": "code",
   "execution_count": 8,
   "id": "8eac2515",
   "metadata": {},
   "outputs": [
    {
     "name": "stdout",
     "output_type": "stream",
     "text": [
      "1281891697328 1281891697168\n"
     ]
    }
   ],
   "source": [
    "y=15\n",
    "print(id(y), id(x))"
   ]
  },
  {
   "cell_type": "code",
   "execution_count": 9,
   "id": "1a46173e",
   "metadata": {},
   "outputs": [],
   "source": [
    "# variable declare\n",
    "# String formatting\n",
    "# call by value vs call by referance\n",
    "# mutuable vs immutable"
   ]
  },
  {
   "cell_type": "code",
   "execution_count": 13,
   "id": "53f6a090",
   "metadata": {},
   "outputs": [
    {
     "data": {
      "text/plain": [
       "6.666666666666667"
      ]
     },
     "execution_count": 13,
     "metadata": {},
     "output_type": "execute_result"
    }
   ],
   "source": [
    "# operators\n",
    "# symbols => task execute\n",
    "# 1+3\n",
    "\n",
    "'''\n",
    "Arithmetic\n",
    "Assignment\n",
    "Bitwise\n",
    "logical\n",
    "comparision\n",
    "membership\n",
    "identity\n",
    "\n",
    "\n",
    "'''\n",
    "\n",
    "20/3\n"
   ]
  },
  {
   "cell_type": "code",
   "execution_count": 15,
   "id": "92e48944",
   "metadata": {},
   "outputs": [
    {
     "data": {
      "text/plain": [
       "2"
      ]
     },
     "execution_count": 15,
     "metadata": {},
     "output_type": "execute_result"
    }
   ],
   "source": [
    "20 % 3"
   ]
  },
  {
   "cell_type": "code",
   "execution_count": 18,
   "id": "9ce05114",
   "metadata": {},
   "outputs": [
    {
     "data": {
      "text/plain": [
       "15.0"
      ]
     },
     "execution_count": 18,
     "metadata": {},
     "output_type": "execute_result"
    }
   ],
   "source": [
    "10.0+5"
   ]
  },
  {
   "cell_type": "code",
   "execution_count": 19,
   "id": "2371cc6c",
   "metadata": {},
   "outputs": [
    {
     "data": {
      "text/plain": [
       "-52.0"
      ]
     },
     "execution_count": 19,
     "metadata": {},
     "output_type": "execute_result"
    }
   ],
   "source": [
    "1+3*5/5-8*7"
   ]
  },
  {
   "cell_type": "code",
   "execution_count": 20,
   "id": "fa2e530f",
   "metadata": {},
   "outputs": [
    {
     "data": {
      "text/plain": [
       "'\\n** \\n / , // ,* , %\\n +  -\\n\\n'"
      ]
     },
     "execution_count": 20,
     "metadata": {},
     "output_type": "execute_result"
    }
   ],
   "source": [
    "'''\n",
    "** \n",
    " / , // ,* , %\n",
    " +  -\n",
    "\n",
    "'''"
   ]
  },
  {
   "cell_type": "code",
   "execution_count": 23,
   "id": "da1f9a63",
   "metadata": {},
   "outputs": [
    {
     "data": {
      "text/plain": [
       "True"
      ]
     },
     "execution_count": 23,
     "metadata": {},
     "output_type": "execute_result"
    }
   ],
   "source": [
    "# Comparison => Boolean  ( True/ False)\n",
    "x=10\n",
    "\n",
    "x==10\n",
    "\n",
    "# > , < , >=, <=,  !="
   ]
  },
  {
   "cell_type": "code",
   "execution_count": 25,
   "id": "195a280a",
   "metadata": {},
   "outputs": [
    {
     "name": "stdout",
     "output_type": "stream",
     "text": [
      "10\n"
     ]
    }
   ],
   "source": [
    "# assignment operation\n",
    "# =, +=, -=\n",
    "x=10\n",
    "x = x\n",
    "+5\n",
    "\n",
    "#   x+=5\n",
    "print(x)"
   ]
  },
  {
   "cell_type": "code",
   "execution_count": 27,
   "id": "d651dce9",
   "metadata": {},
   "outputs": [
    {
     "name": "stdout",
     "output_type": "stream",
     "text": [
      "1\n"
     ]
    }
   ],
   "source": [
    "x=5\n",
    "\n",
    "\n",
    "x //=5\n",
    "\n",
    "print(x)"
   ]
  },
  {
   "cell_type": "code",
   "execution_count": 28,
   "id": "de2d76ca",
   "metadata": {},
   "outputs": [],
   "source": [
    "#  //= ,   /=, *= ,  **=  "
   ]
  },
  {
   "cell_type": "code",
   "execution_count": 29,
   "id": "a1958c06",
   "metadata": {},
   "outputs": [
    {
     "data": {
      "text/plain": [
       "True"
      ]
     },
     "execution_count": 29,
     "metadata": {},
     "output_type": "execute_result"
    }
   ],
   "source": [
    "# logical operator\n",
    "# and   /   or   /  not\n",
    "\n",
    "x=10\n",
    "\n",
    "x==10"
   ]
  },
  {
   "cell_type": "code",
   "execution_count": 33,
   "id": "d08b3b47",
   "metadata": {},
   "outputs": [
    {
     "data": {
      "text/plain": [
       "True"
      ]
     },
     "execution_count": 33,
     "metadata": {},
     "output_type": "execute_result"
    }
   ],
   "source": [
    "x=10\n",
    "y=18\n",
    "\n",
    "\n",
    "x==10  and y>=18"
   ]
  },
  {
   "cell_type": "code",
   "execution_count": 35,
   "id": "64ca42af",
   "metadata": {},
   "outputs": [
    {
     "data": {
      "text/plain": [
       "False"
      ]
     },
     "execution_count": 35,
     "metadata": {},
     "output_type": "execute_result"
    }
   ],
   "source": [
    "x=10\n",
    "y=18\n",
    "\n",
    "x!=10  or y>18"
   ]
  },
  {
   "cell_type": "code",
   "execution_count": 36,
   "id": "462b0d90",
   "metadata": {},
   "outputs": [
    {
     "data": {
      "text/plain": [
       "False"
      ]
     },
     "execution_count": 36,
     "metadata": {},
     "output_type": "execute_result"
    }
   ],
   "source": [
    "# not\n",
    "not True"
   ]
  },
  {
   "cell_type": "code",
   "execution_count": 37,
   "id": "44f4f2b7",
   "metadata": {},
   "outputs": [
    {
     "data": {
      "text/plain": [
       "True"
      ]
     },
     "execution_count": 37,
     "metadata": {},
     "output_type": "execute_result"
    }
   ],
   "source": [
    "not(False)"
   ]
  },
  {
   "cell_type": "code",
   "execution_count": 38,
   "id": "e4a63928",
   "metadata": {},
   "outputs": [
    {
     "data": {
      "text/plain": [
       "12"
      ]
     },
     "execution_count": 38,
     "metadata": {},
     "output_type": "execute_result"
    }
   ],
   "source": [
    "# Bitwise operator\n",
    "# bit =>  \n",
    "\n",
    "14&13"
   ]
  },
  {
   "cell_type": "code",
   "execution_count": 39,
   "id": "9e023716",
   "metadata": {},
   "outputs": [
    {
     "data": {
      "text/plain": [
       "15"
      ]
     },
     "execution_count": 39,
     "metadata": {},
     "output_type": "execute_result"
    }
   ],
   "source": [
    "14 |  13"
   ]
  },
  {
   "cell_type": "code",
   "execution_count": 40,
   "id": "874e4585",
   "metadata": {},
   "outputs": [
    {
     "data": {
      "text/plain": [
       "5"
      ]
     },
     "execution_count": 40,
     "metadata": {},
     "output_type": "execute_result"
    }
   ],
   "source": [
    "11>>1"
   ]
  },
  {
   "cell_type": "code",
   "execution_count": 42,
   "id": "47055e88",
   "metadata": {},
   "outputs": [
    {
     "data": {
      "text/plain": [
       "11"
      ]
     },
     "execution_count": 42,
     "metadata": {},
     "output_type": "execute_result"
    }
   ],
   "source": [
    "# take the\n",
    "# number  // 2**bit\n",
    "# 23  //  2**1\n",
    "#23//2\n",
    "23>>1"
   ]
  },
  {
   "cell_type": "code",
   "execution_count": 43,
   "id": "56dd10a7",
   "metadata": {},
   "outputs": [
    {
     "data": {
      "text/plain": [
       "56"
      ]
     },
     "execution_count": 43,
     "metadata": {},
     "output_type": "execute_result"
    }
   ],
   "source": [
    "#left shift\n",
    "#  number  *  2**bit\n",
    "#  14 <<2\n",
    "\n",
    "14<<2"
   ]
  },
  {
   "cell_type": "code",
   "execution_count": 44,
   "id": "01de0f56",
   "metadata": {},
   "outputs": [
    {
     "data": {
      "text/plain": [
       "True"
      ]
     },
     "execution_count": 44,
     "metadata": {},
     "output_type": "execute_result"
    }
   ],
   "source": [
    "# membership   -- in \n",
    "\"J\" in \"JAIPUR\""
   ]
  },
  {
   "cell_type": "code",
   "execution_count": 46,
   "id": "9044b92a",
   "metadata": {},
   "outputs": [
    {
     "data": {
      "text/plain": [
       "False"
      ]
     },
     "execution_count": 46,
     "metadata": {},
     "output_type": "execute_result"
    }
   ],
   "source": [
    "\"j\" in \"JAIPUR\""
   ]
  },
  {
   "cell_type": "code",
   "execution_count": 50,
   "id": "5b75c7c0",
   "metadata": {
    "scrolled": true
   },
   "outputs": [
    {
     "data": {
      "text/plain": [
       "True"
      ]
     },
     "execution_count": 50,
     "metadata": {},
     "output_type": "execute_result"
    }
   ],
   "source": [
    "\"PURR\" not in \"JAIPUR\""
   ]
  },
  {
   "cell_type": "code",
   "execution_count": 51,
   "id": "42501f77",
   "metadata": {},
   "outputs": [
    {
     "data": {
      "text/plain": [
       "True"
      ]
     },
     "execution_count": 51,
     "metadata": {},
     "output_type": "execute_result"
    }
   ],
   "source": [
    "# identity\n",
    "# beling too a certain class / datatype\n",
    "\n",
    "\n",
    "x=10\n",
    "type(x) is int\n"
   ]
  },
  {
   "cell_type": "code",
   "execution_count": 54,
   "id": "0645dcc1",
   "metadata": {},
   "outputs": [
    {
     "data": {
      "text/plain": [
       "True"
      ]
     },
     "execution_count": 54,
     "metadata": {},
     "output_type": "execute_result"
    }
   ],
   "source": [
    "type(x) is not str"
   ]
  },
  {
   "cell_type": "code",
   "execution_count": null,
   "id": "09cc1263",
   "metadata": {},
   "outputs": [],
   "source": [
    "#  ==  is\n",
    "# XOR operator in reading\n",
    "# what is life scope of a variable and what type of life scope\n",
    "#  String  indexing  & slicing"
   ]
  }
 ],
 "metadata": {
  "kernelspec": {
   "display_name": "Python 3 (ipykernel)",
   "language": "python",
   "name": "python3"
  },
  "language_info": {
   "codemirror_mode": {
    "name": "ipython",
    "version": 3
   },
   "file_extension": ".py",
   "mimetype": "text/x-python",
   "name": "python",
   "nbconvert_exporter": "python",
   "pygments_lexer": "ipython3",
   "version": "3.10.11"
  }
 },
 "nbformat": 4,
 "nbformat_minor": 5
}
