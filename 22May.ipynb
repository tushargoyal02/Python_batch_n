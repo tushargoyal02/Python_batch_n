{
 "cells": [
  {
   "cell_type": "code",
   "execution_count": 1,
   "id": "691c389f",
   "metadata": {},
   "outputs": [],
   "source": [
    "# def func(parameter):\n",
    "#    logic\n",
    "\n",
    "# lambda ( keyword  => function  annoymous)\n",
    "# one line  in line funciton\n",
    "# code readable\n"
   ]
  },
  {
   "cell_type": "code",
   "execution_count": 31,
   "id": "27516085",
   "metadata": {},
   "outputs": [
    {
     "name": "stdout",
     "output_type": "stream",
     "text": [
      "Out\n"
     ]
    }
   ],
   "source": [
    "def square(x):\n",
    "    return x+5\n",
    "\n",
    "\n",
    "square(10)\n",
    "print(\"Out\")\n"
   ]
  },
  {
   "cell_type": "code",
   "execution_count": 20,
   "id": "cbc005cc",
   "metadata": {},
   "outputs": [
    {
     "data": {
      "text/plain": [
       "15"
      ]
     },
     "execution_count": 20,
     "metadata": {},
     "output_type": "execute_result"
    }
   ],
   "source": [
    "def square(x):\n",
    "    return x+5\n",
    "\n",
    "square(10)"
   ]
  },
  {
   "cell_type": "code",
   "execution_count": 29,
   "id": "81a1106b",
   "metadata": {},
   "outputs": [
    {
     "name": "stdout",
     "output_type": "stream",
     "text": [
      "200\n",
      "hey\n"
     ]
    }
   ],
   "source": [
    "# lambda   parameter : express\n",
    "out = lambda x,y :  x*y\n",
    "print( out(10,20) )\n",
    "print(\"hey\")"
   ]
  },
  {
   "cell_type": "code",
   "execution_count": 33,
   "id": "8ac7723c",
   "metadata": {},
   "outputs": [
    {
     "name": "stdout",
     "output_type": "stream",
     "text": [
      "2\n",
      "4\n",
      "6\n",
      "8\n",
      "10\n",
      "12\n",
      "14\n",
      "16\n",
      "18\n",
      "20\n"
     ]
    }
   ],
   "source": [
    "for i in range(1,11):\n",
    "    out = lambda x: 2*x\n",
    "    print ( out(i) )"
   ]
  },
  {
   "cell_type": "code",
   "execution_count": 34,
   "id": "9e228871",
   "metadata": {},
   "outputs": [],
   "source": [
    "# map (), filter, reduce\n",
    "# high order function\n",
    "# map( function)\n",
    "# [10,20,30,40]\n",
    "\n",
    "# function which takes another function as a argument\n",
    "# applies the same logic to each and every element."
   ]
  },
  {
   "cell_type": "code",
   "execution_count": 40,
   "id": "7ca1ba5a",
   "metadata": {},
   "outputs": [
    {
     "data": {
      "text/plain": [
       "[5, 3]"
      ]
     },
     "execution_count": 40,
     "metadata": {},
     "output_type": "execute_result"
    }
   ],
   "source": [
    "mylist= [\"hello\",\"hey\"]\n",
    "\n",
    "list( map( len,  mylist ) )"
   ]
  },
  {
   "cell_type": "code",
   "execution_count": 44,
   "id": "18ea3dce",
   "metadata": {},
   "outputs": [
    {
     "data": {
      "text/plain": [
       "[100, 400, 900, 1600]"
      ]
     },
     "execution_count": 44,
     "metadata": {},
     "output_type": "execute_result"
    }
   ],
   "source": [
    "def func(x):\n",
    "    return x**2\n",
    "\n",
    "list(map( func,  [10,20,30,40]) )"
   ]
  },
  {
   "cell_type": "code",
   "execution_count": 46,
   "id": "aaaadc3a",
   "metadata": {},
   "outputs": [
    {
     "data": {
      "text/plain": [
       "[100, 400, 900, 1600]"
      ]
     },
     "execution_count": 46,
     "metadata": {},
     "output_type": "execute_result"
    }
   ],
   "source": [
    "list(map( lambda x: x**2,  [10,20,30,40]) )"
   ]
  },
  {
   "cell_type": "code",
   "execution_count": 49,
   "id": "da6c5bde",
   "metadata": {},
   "outputs": [
    {
     "name": "stdout",
     "output_type": "stream",
     "text": [
      "[11, 12, 13, 14]\n"
     ]
    }
   ],
   "source": [
    "newlist=[]\n",
    "for i in range(1,5):\n",
    "    newlist.append(i+10)\n",
    "    \n",
    "print(newlist)"
   ]
  },
  {
   "cell_type": "code",
   "execution_count": 53,
   "id": "9eaae39a",
   "metadata": {},
   "outputs": [
    {
     "data": {
      "text/plain": [
       "[11, 12, 13, 14]"
      ]
     },
     "execution_count": 53,
     "metadata": {},
     "output_type": "execute_result"
    }
   ],
   "source": [
    "[i+10 for i in range(1,5)]"
   ]
  }
 ],
 "metadata": {
  "kernelspec": {
   "display_name": "Python 3 (ipykernel)",
   "language": "python",
   "name": "python3"
  },
  "language_info": {
   "codemirror_mode": {
    "name": "ipython",
    "version": 3
   },
   "file_extension": ".py",
   "mimetype": "text/x-python",
   "name": "python",
   "nbconvert_exporter": "python",
   "pygments_lexer": "ipython3",
   "version": "3.10.11"
  }
 },
 "nbformat": 4,
 "nbformat_minor": 5
}
