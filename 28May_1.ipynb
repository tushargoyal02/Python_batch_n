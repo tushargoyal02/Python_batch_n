{
 "cells": [
  {
   "cell_type": "code",
   "execution_count": 1,
   "id": "ec280347",
   "metadata": {},
   "outputs": [],
   "source": [
    "# class : template\n",
    "# object : real time entity\n",
    "# instance of a class\n",
    "# instance class ( properties / data member)  access\n"
   ]
  },
  {
   "cell_type": "code",
   "execution_count": 13,
   "id": "e307b557",
   "metadata": {},
   "outputs": [],
   "source": [
    "class House:\n",
    "    color=\"white\"\n",
    "    room=4\n",
    "    \n",
    "    def house_info(self):\n",
    "        print(\"hello :\", self.color, self.room)"
   ]
  },
  {
   "cell_type": "code",
   "execution_count": 14,
   "id": "77630829",
   "metadata": {},
   "outputs": [
    {
     "name": "stdout",
     "output_type": "stream",
     "text": [
      "hello : white 4\n"
     ]
    }
   ],
   "source": [
    "# object  = class()\n",
    "h1=House()\n",
    "h1.house_info()"
   ]
  },
  {
   "cell_type": "code",
   "execution_count": 15,
   "id": "63eff3e0",
   "metadata": {},
   "outputs": [
    {
     "name": "stdout",
     "output_type": "stream",
     "text": [
      "white 4\n"
     ]
    }
   ],
   "source": [
    "# object  = class()\n",
    "h2=House()\n",
    "print(h2.color,   h2.room)"
   ]
  },
  {
   "cell_type": "code",
   "execution_count": 16,
   "id": "d72119c7",
   "metadata": {},
   "outputs": [],
   "source": [
    "class House:\n",
    "    color=\"white\"\n",
    "    room=4\n",
    "    \n",
    "    def house_info(self):\n",
    "        print(\"hello :\", self.color, self.room)\n",
    "        "
   ]
  },
  {
   "cell_type": "code",
   "execution_count": 19,
   "id": "fca98d2a",
   "metadata": {},
   "outputs": [
    {
     "data": {
      "text/plain": [
       "'white'"
      ]
     },
     "execution_count": 19,
     "metadata": {},
     "output_type": "execute_result"
    }
   ],
   "source": [
    "House.color"
   ]
  },
  {
   "cell_type": "code",
   "execution_count": 21,
   "id": "a76a5fb5",
   "metadata": {},
   "outputs": [
    {
     "name": "stdout",
     "output_type": "stream",
     "text": [
      "white\n"
     ]
    }
   ],
   "source": [
    "e=House()\n",
    "print(e.color)"
   ]
  },
  {
   "cell_type": "code",
   "execution_count": 35,
   "id": "4030fecf",
   "metadata": {},
   "outputs": [
    {
     "ename": "NameError",
     "evalue": "name 'x' is not defined",
     "output_type": "error",
     "traceback": [
      "\u001b[1;31m---------------------------------------------------------------------------\u001b[0m",
      "\u001b[1;31mNameError\u001b[0m                                 Traceback (most recent call last)",
      "Cell \u001b[1;32mIn[35], line 1\u001b[0m\n\u001b[1;32m----> 1\u001b[0m \u001b[38;5;28;01mdel\u001b[39;00m x\n",
      "\u001b[1;31mNameError\u001b[0m: name 'x' is not defined"
     ]
    }
   ],
   "source": [
    "del x"
   ]
  },
  {
   "cell_type": "code",
   "execution_count": 40,
   "id": "8a63935c",
   "metadata": {},
   "outputs": [],
   "source": [
    "class House:\n",
    "    # constructor : function which help in intitalizing the memory for the object\n",
    "    def __init__(self, x):\n",
    "        self.color=x\n",
    "        \n",
    "        "
   ]
  },
  {
   "cell_type": "code",
   "execution_count": 42,
   "id": "3f65b6c1",
   "metadata": {},
   "outputs": [
    {
     "name": "stdout",
     "output_type": "stream",
     "text": [
      "yellow\n"
     ]
    }
   ],
   "source": [
    "h1=House(\"yellow\")\n",
    "print(h1.color)"
   ]
  },
  {
   "cell_type": "code",
   "execution_count": 45,
   "id": "a746eec3",
   "metadata": {},
   "outputs": [
    {
     "name": "stdout",
     "output_type": "stream",
     "text": [
      "yellow 5\n"
     ]
    }
   ],
   "source": [
    "class House:\n",
    "    def __init__(self, x,y):\n",
    "        self.color=x\n",
    "        self.room=y\n",
    "        \n",
    "# object1\n",
    "h1=House(\"yellow\",5)\n",
    "print(h1.color, h1.room)"
   ]
  },
  {
   "cell_type": "code",
   "execution_count": 47,
   "id": "af770121",
   "metadata": {},
   "outputs": [
    {
     "name": "stdout",
     "output_type": "stream",
     "text": [
      "blue 3\n"
     ]
    }
   ],
   "source": [
    "h2=House(\"blue\",3)\n",
    "print(h2.color, h2.room)"
   ]
  },
  {
   "cell_type": "code",
   "execution_count": 48,
   "id": "aaf3cf02",
   "metadata": {},
   "outputs": [
    {
     "name": "stdout",
     "output_type": "stream",
     "text": [
      "House has :  yellow 5\n"
     ]
    }
   ],
   "source": [
    "class House:\n",
    "    def __init__(self, x,y):\n",
    "        self.color=x\n",
    "        self.room=y\n",
    "\n",
    "    def info(self):\n",
    "        print(\"House has : \", self.color, self.room)\n",
    "\n",
    "# object1\n",
    "h1=House(\"yellow\",5)\n",
    "h1.info()"
   ]
  }
 ],
 "metadata": {
  "kernelspec": {
   "display_name": "Python 3 (ipykernel)",
   "language": "python",
   "name": "python3"
  },
  "language_info": {
   "codemirror_mode": {
    "name": "ipython",
    "version": 3
   },
   "file_extension": ".py",
   "mimetype": "text/x-python",
   "name": "python",
   "nbconvert_exporter": "python",
   "pygments_lexer": "ipython3",
   "version": "3.10.11"
  }
 },
 "nbformat": 4,
 "nbformat_minor": 5
}
