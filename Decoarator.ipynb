{
 "cells": [
  {
   "cell_type": "code",
   "execution_count": 1,
   "id": "3f850296",
   "metadata": {},
   "outputs": [],
   "source": [
    "# Generator"
   ]
  },
  {
   "cell_type": "code",
   "execution_count": 2,
   "id": "019af972",
   "metadata": {},
   "outputs": [],
   "source": [
    "# like a function\n",
    "#similar to the normal function\n",
    "# in this we return value at a time"
   ]
  },
  {
   "cell_type": "code",
   "execution_count": 6,
   "id": "69bb6124",
   "metadata": {},
   "outputs": [],
   "source": [
    "def func():\n",
    "    return \"abc\"\n",
    "    return \"def\""
   ]
  },
  {
   "cell_type": "code",
   "execution_count": 7,
   "id": "d0d5285e",
   "metadata": {},
   "outputs": [
    {
     "data": {
      "text/plain": [
       "'abc'"
      ]
     },
     "execution_count": 7,
     "metadata": {},
     "output_type": "execute_result"
    }
   ],
   "source": [
    "func()"
   ]
  },
  {
   "cell_type": "code",
   "execution_count": 17,
   "id": "24d89294",
   "metadata": {},
   "outputs": [
    {
     "data": {
      "text/plain": [
       "'abc'"
      ]
     },
     "execution_count": 17,
     "metadata": {},
     "output_type": "execute_result"
    }
   ],
   "source": [
    "def func():\n",
    "    yield \"abc\"\n",
    "    print(\"hey\")\n",
    "    yield \"def\"\n",
    "    yield \"egf\"\n",
    "    \n",
    "    \n",
    "x=func()\n",
    "next(x)\n"
   ]
  },
  {
   "cell_type": "code",
   "execution_count": 19,
   "id": "3e1f391e",
   "metadata": {},
   "outputs": [
    {
     "data": {
      "text/plain": [
       "'egf'"
      ]
     },
     "execution_count": 19,
     "metadata": {},
     "output_type": "execute_result"
    }
   ],
   "source": [
    "x.__next__()\n",
    "#next(x)"
   ]
  },
  {
   "cell_type": "code",
   "execution_count": 12,
   "id": "7e4c25f8",
   "metadata": {},
   "outputs": [
    {
     "data": {
      "text/plain": [
       "'egf'"
      ]
     },
     "execution_count": 12,
     "metadata": {},
     "output_type": "execute_result"
    }
   ],
   "source": [
    "next(x)"
   ]
  },
  {
   "cell_type": "code",
   "execution_count": 20,
   "id": "d839b17c",
   "metadata": {},
   "outputs": [
    {
     "ename": "StopIteration",
     "evalue": "",
     "output_type": "error",
     "traceback": [
      "\u001b[1;31m---------------------------------------------------------------------------\u001b[0m",
      "\u001b[1;31mStopIteration\u001b[0m                             Traceback (most recent call last)",
      "Cell \u001b[1;32mIn[20], line 1\u001b[0m\n\u001b[1;32m----> 1\u001b[0m \u001b[38;5;28;43mnext\u001b[39;49m\u001b[43m(\u001b[49m\u001b[43mx\u001b[49m\u001b[43m)\u001b[49m\n",
      "\u001b[1;31mStopIteration\u001b[0m: "
     ]
    }
   ],
   "source": [
    "next(x)"
   ]
  },
  {
   "cell_type": "code",
   "execution_count": 34,
   "id": "6cf8916a",
   "metadata": {},
   "outputs": [],
   "source": [
    "def generator(num):\n",
    "    for n in range(num):\n",
    "        yield n**3"
   ]
  },
  {
   "cell_type": "code",
   "execution_count": 35,
   "id": "e163b215",
   "metadata": {},
   "outputs": [
    {
     "name": "stdout",
     "output_type": "stream",
     "text": [
      "0\n",
      "1\n",
      "8\n",
      "27\n",
      "64\n",
      "125\n",
      "216\n",
      "343\n",
      "512\n",
      "729\n"
     ]
    }
   ],
   "source": [
    "for i in generator(10):\n",
    "    print(i)\n",
    "\n"
   ]
  },
  {
   "cell_type": "code",
   "execution_count": null,
   "id": "33f7c8ba",
   "metadata": {},
   "outputs": [],
   "source": []
  },
  {
   "cell_type": "code",
   "execution_count": 45,
   "id": "fc303c65",
   "metadata": {},
   "outputs": [
    {
     "name": "stdout",
     "output_type": "stream",
     "text": [
      "Inner funciton\n",
      "this is test function\n"
     ]
    }
   ],
   "source": [
    "def hello(func):\n",
    "    def inner2():\n",
    "        print(\"Inner funciton\")\n",
    "        func()\n",
    "    \n",
    "    return inner2\n",
    "\n",
    "def test():\n",
    "    print(\"this is test function\")\n",
    "\n",
    "x=hello( test  )\n",
    "x()"
   ]
  },
  {
   "cell_type": "code",
   "execution_count": 67,
   "id": "2571fa94",
   "metadata": {},
   "outputs": [
    {
     "name": "stdout",
     "output_type": "stream",
     "text": [
      "Inner funciton\n",
      "this is test function\n"
     ]
    }
   ],
   "source": [
    "def hello1(func):\n",
    "    def inner2():\n",
    "        print(\"Inner funciton\")\n",
    "        func()\n",
    "    \n",
    "    return inner2\n",
    "\n",
    "@hello1\n",
    "def test1():\n",
    "    print(\"this is test function\")\n",
    "\n",
    "test1() \n"
   ]
  },
  {
   "cell_type": "code",
   "execution_count": 69,
   "id": "832234db",
   "metadata": {},
   "outputs": [
    {
     "name": "stdout",
     "output_type": "stream",
     "text": [
      "Inner funciton\n",
      "Inner funciton\n",
      "Inner funciton\n",
      "this is test function\n"
     ]
    }
   ],
   "source": [
    "    \n",
    "test1=hello1(test1)\n",
    "test1()"
   ]
  },
  {
   "cell_type": "code",
   "execution_count": null,
   "id": "465358a1",
   "metadata": {},
   "outputs": [],
   "source": []
  }
 ],
 "metadata": {
  "kernelspec": {
   "display_name": "Python 3 (ipykernel)",
   "language": "python",
   "name": "python3"
  },
  "language_info": {
   "codemirror_mode": {
    "name": "ipython",
    "version": 3
   },
   "file_extension": ".py",
   "mimetype": "text/x-python",
   "name": "python",
   "nbconvert_exporter": "python",
   "pygments_lexer": "ipython3",
   "version": "3.10.11"
  }
 },
 "nbformat": 4,
 "nbformat_minor": 5
}
