{
 "cells": [
  {
   "cell_type": "code",
   "execution_count": 1,
   "id": "d1e4e7bc",
   "metadata": {},
   "outputs": [],
   "source": [
    "# block of code\n",
    "# reuse\n",
    "# ( as per request )"
   ]
  },
  {
   "cell_type": "code",
   "execution_count": 8,
   "id": "20314f6f",
   "metadata": {},
   "outputs": [
    {
     "name": "stdout",
     "output_type": "stream",
     "text": [
      "hey 10\n"
     ]
    }
   ],
   "source": [
    "x=10\n",
    "def func():\n",
    "    print(\"hey\",x)\n",
    "    \n",
    "func()"
   ]
  },
  {
   "cell_type": "code",
   "execution_count": 6,
   "id": "0a2d95f5",
   "metadata": {},
   "outputs": [
    {
     "name": "stdout",
     "output_type": "stream",
     "text": [
      "hey\n"
     ]
    }
   ],
   "source": [
    "func()"
   ]
  },
  {
   "cell_type": "code",
   "execution_count": 9,
   "id": "0b8f3432",
   "metadata": {},
   "outputs": [
    {
     "name": "stdout",
     "output_type": "stream",
     "text": [
      "hey 10\n",
      "hey 10\n",
      "hey 10\n"
     ]
    }
   ],
   "source": [
    "for i in range(1,4):\n",
    "    func()"
   ]
  },
  {
   "cell_type": "code",
   "execution_count": 12,
   "id": "811d9bb4",
   "metadata": {},
   "outputs": [
    {
     "name": "stdout",
     "output_type": "stream",
     "text": [
      "hey 10\n"
     ]
    },
    {
     "ename": "NameError",
     "evalue": "name 'num' is not defined",
     "output_type": "error",
     "traceback": [
      "\u001b[1;31m---------------------------------------------------------------------------\u001b[0m",
      "\u001b[1;31mNameError\u001b[0m                                 Traceback (most recent call last)",
      "Cell \u001b[1;32mIn[12], line 6\u001b[0m\n\u001b[0;32m      3\u001b[0m     \u001b[38;5;28mprint\u001b[39m(\u001b[38;5;124m\"\u001b[39m\u001b[38;5;124mhey\u001b[39m\u001b[38;5;124m\"\u001b[39m,num)\n\u001b[0;32m      5\u001b[0m func()\n\u001b[1;32m----> 6\u001b[0m \u001b[38;5;28mprint\u001b[39m(\u001b[43mnum\u001b[49m)\n",
      "\u001b[1;31mNameError\u001b[0m: name 'num' is not defined"
     ]
    }
   ],
   "source": [
    "\n",
    "def func():\n",
    "    num=10\n",
    "    print(\"hey\",num)\n",
    "    \n",
    "func()\n",
    "print(num)"
   ]
  },
  {
   "cell_type": "code",
   "execution_count": null,
   "id": "7c63c819",
   "metadata": {},
   "outputs": [],
   "source": []
  },
  {
   "cell_type": "code",
   "execution_count": 20,
   "id": "15e42718",
   "metadata": {},
   "outputs": [
    {
     "name": "stdout",
     "output_type": "stream",
     "text": [
      "hello user tushar\n",
      "hello user aman\n",
      "hello user aditya\n"
     ]
    }
   ],
   "source": [
    "def msg(x):\n",
    "    print(\"hello user\",x)\n",
    "    \n",
    "msg(\"tushar\")\n",
    "msg(\"aman\")\n",
    "msg(\"aditya\")"
   ]
  },
  {
   "cell_type": "code",
   "execution_count": 25,
   "id": "8067e9c8",
   "metadata": {},
   "outputs": [
    {
     "name": "stdout",
     "output_type": "stream",
     "text": [
      "hello user aman123\n"
     ]
    }
   ],
   "source": [
    "def msg(x):\n",
    "    print(\"hello user\",x)\n",
    "\n",
    "    \n",
    "x=\"aman123\"\n",
    "msg(x)\n",
    "\n"
   ]
  },
  {
   "cell_type": "code",
   "execution_count": 28,
   "id": "114ee75d",
   "metadata": {},
   "outputs": [
    {
     "ename": "NameError",
     "evalue": "name 'num' is not defined",
     "output_type": "error",
     "traceback": [
      "\u001b[1;31m---------------------------------------------------------------------------\u001b[0m",
      "\u001b[1;31mNameError\u001b[0m                                 Traceback (most recent call last)",
      "Cell \u001b[1;32mIn[28], line 1\u001b[0m\n\u001b[1;32m----> 1\u001b[0m \u001b[43mnum\u001b[49m\n",
      "\u001b[1;31mNameError\u001b[0m: name 'num' is not defined"
     ]
    }
   ],
   "source": [
    "num"
   ]
  },
  {
   "cell_type": "code",
   "execution_count": 33,
   "id": "14288bb9",
   "metadata": {},
   "outputs": [
    {
     "name": "stdout",
     "output_type": "stream",
     "text": [
      "30\n",
      "NUm value is: 20\n"
     ]
    }
   ],
   "source": [
    "def addNumber(num):\n",
    "    num=num+10\n",
    "    print(num)\n",
    "    \n",
    "\n",
    "num=20\n",
    "addNumber(num)\n",
    "print(\"NUm value is:\",num)"
   ]
  },
  {
   "cell_type": "code",
   "execution_count": 36,
   "id": "abc67b01",
   "metadata": {},
   "outputs": [
    {
     "name": "stdout",
     "output_type": "stream",
     "text": [
      "20 10\n"
     ]
    }
   ],
   "source": [
    "x=10\n",
    "y=20\n",
    "\n",
    "x,y=y,x\n",
    "print(x,y)"
   ]
  },
  {
   "cell_type": "code",
   "execution_count": 37,
   "id": "e0c65978",
   "metadata": {},
   "outputs": [
    {
     "name": "stdout",
     "output_type": "stream",
     "text": [
      "before swap 10 20\n",
      "Swapped number: 10 20\n"
     ]
    }
   ],
   "source": [
    "def swapnumber(x,y):\n",
    "    print(\"before swap\",x,y)\n",
    "    x,y=y,x\n",
    "    \n",
    "x=10\n",
    "y=20\n",
    "swapnumber(10,20)\n",
    "print(\"Swapped number:\",x,y)"
   ]
  },
  {
   "cell_type": "code",
   "execution_count": 39,
   "id": "82200698",
   "metadata": {},
   "outputs": [
    {
     "name": "stdout",
     "output_type": "stream",
     "text": [
      "1816723367872\n",
      "[10, 20] 1816723367872\n"
     ]
    }
   ],
   "source": [
    "def func(list1):\n",
    "    print(list1, id(list1))\n",
    "    \n",
    "mylist=[10,20]\n",
    "print(id(mylist))\n",
    "func(mylist)"
   ]
  },
  {
   "cell_type": "code",
   "execution_count": 41,
   "id": "d142bad8",
   "metadata": {},
   "outputs": [
    {
     "name": "stdout",
     "output_type": "stream",
     "text": [
      "value of x is  20\n"
     ]
    }
   ],
   "source": [
    "def func(x):\n",
    "    print(\"value of x is \",x)\n",
    "    \n",
    "num=20\n",
    "func(num)"
   ]
  },
  {
   "cell_type": "code",
   "execution_count": 45,
   "id": "72f33194",
   "metadata": {},
   "outputs": [
    {
     "name": "stdout",
     "output_type": "stream",
     "text": [
      "[200, 20]\n",
      "outside function: [200, 20]\n"
     ]
    }
   ],
   "source": [
    "def func(list1):\n",
    "    list1[0]=200\n",
    "    print(list1)\n",
    "    \n",
    "mylist=[10,20]\n",
    "func(mylist)\n",
    "print(\"outside function:\", mylist)"
   ]
  },
  {
   "cell_type": "code",
   "execution_count": 61,
   "id": "6e092b57",
   "metadata": {},
   "outputs": [
    {
     "name": "stdout",
     "output_type": "stream",
     "text": [
      "Eid:10 \n",
      "Ename:tushar \n",
      "Email: tushar@gmail.com\n"
     ]
    }
   ],
   "source": [
    "# type of argument passing\n",
    "# required argument\n",
    "\n",
    "def employee(eid, name, email):\n",
    "    print(f\"Eid:{eid} \\nEname:{name} \\nEmail: {email}\")\n",
    "\n",
    "employee(10,\"tushar\",\"tushar@gmail.com\")\n"
   ]
  },
  {
   "cell_type": "code",
   "execution_count": 65,
   "id": "62ec0149",
   "metadata": {},
   "outputs": [
    {
     "name": "stdout",
     "output_type": "stream",
     "text": [
      "Eid:tushar \n",
      "Ename:tushar@gmail.com \n",
      "Email: 10\n"
     ]
    }
   ],
   "source": [
    "#positional\n",
    "def employee(eid, name, email):\n",
    "    print(f\"Eid:{eid} \\nEname:{name} \\nEmail: {email}\")\n",
    "\n",
    "employee(\"tushar\",\"tushar@gmail.com\",10)"
   ]
  },
  {
   "cell_type": "code",
   "execution_count": 69,
   "id": "ba90021a",
   "metadata": {},
   "outputs": [
    {
     "name": "stdout",
     "output_type": "stream",
     "text": [
      "Eid:10 \n",
      "Ename:tushar \n",
      "Email: tushar@gmail.com\n"
     ]
    }
   ],
   "source": [
    "#keyword\n",
    "def employee(eid, name, email):\n",
    "    print(f\"Eid:{eid} \\nEname:{name} \\nEmail: {email}\")\n",
    "\n",
    "employee(name=\"tushar\",email=\"tushar@gmail.com\",eid=10)"
   ]
  },
  {
   "cell_type": "code",
   "execution_count": 71,
   "id": "580b7af4",
   "metadata": {},
   "outputs": [
    {
     "name": "stdout",
     "output_type": "stream",
     "text": [
      "Eid:25 \n",
      "Ename:tushar \n",
      "Email: tushar@gmail.com\n"
     ]
    }
   ],
   "source": [
    "#keyword + positional\n",
    "def employee(eid, name, email):\n",
    "    print(f\"Eid:{eid} \\nEname:{name} \\nEmail: {email}\")\n",
    "\n",
    "employee(25,email=\"tushar@gmail.com\",name=\"tushar\")"
   ]
  },
  {
   "cell_type": "code",
   "execution_count": 75,
   "id": "05acf921",
   "metadata": {},
   "outputs": [
    {
     "name": "stdout",
     "output_type": "stream",
     "text": [
      "Eid:25 \n",
      "Ename:naina \n",
      "Email: naina@gmail.com\n"
     ]
    }
   ],
   "source": [
    "#default\n",
    "def employee(eid, name, email=\"regexsoftware.com\"):\n",
    "    print(f\"Eid:{eid} \\nEname:{name} \\nEmail: {email}\")\n",
    "\n",
    "employee(25,\"naina\",\"naina@gmail.com\")"
   ]
  },
  {
   "cell_type": "code",
   "execution_count": 81,
   "id": "66c70ba2",
   "metadata": {},
   "outputs": [
    {
     "name": "stdout",
     "output_type": "stream",
     "text": [
      "('naina', 100, 'heyy') <class 'tuple'>\n",
      "('naina1222', 'heyy333') <class 'tuple'>\n",
      "() <class 'tuple'>\n"
     ]
    }
   ],
   "source": [
    "# variable length argument\n",
    "\n",
    "def facebook( *data ):\n",
    "    print(data, type(data))\n",
    "    \n",
    "facebook(\"naina\",100,\"heyy\")\n",
    "facebook(\"naina1222\",\"heyy333\")\n",
    "facebook()"
   ]
  },
  {
   "cell_type": "code",
   "execution_count": 84,
   "id": "92df6029",
   "metadata": {},
   "outputs": [
    {
     "name": "stdout",
     "output_type": "stream",
     "text": [
      "{'username': 'naina'}\n",
      "{'salary': 1000, 'website': 'www.regexsoftware.com'}\n"
     ]
    }
   ],
   "source": [
    "# keyword variable length argument\n",
    "# *args  vs **kwargs\n",
    "def facebook( **kwargs ):\n",
    "    print(kwargs)\n",
    "    \n",
    "facebook(username=\"naina\")\n",
    "facebook(salary=1000, website=\"www.regexsoftware.com\")\n"
   ]
  }
 ],
 "metadata": {
  "kernelspec": {
   "display_name": "Python 3 (ipykernel)",
   "language": "python",
   "name": "python3"
  },
  "language_info": {
   "codemirror_mode": {
    "name": "ipython",
    "version": 3
   },
   "file_extension": ".py",
   "mimetype": "text/x-python",
   "name": "python",
   "nbconvert_exporter": "python",
   "pygments_lexer": "ipython3",
   "version": "3.10.11"
  }
 },
 "nbformat": 4,
 "nbformat_minor": 5
}
